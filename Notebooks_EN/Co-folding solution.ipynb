{
 "cells": [
  {
   "cell_type": "code",
   "execution_count": null,
   "id": "871dd5c4",
   "metadata": {},
   "outputs": [],
   "source": [
    "with open(\"3bz3.fasta\", 'w') as f:\n",
    "    f.write(\"\"\"\n",
    ">A|protein|\n",
    "DYEIQRERIELGRCIGEGQFGDVHQGIYMSPENPALAVAIKTCKNCTSDSVREKFLQEALTMRQFDHPHIVKLIGVITENPVWIIMELCTLGELRSFLQVRKYSLDLASLILYAYQLSTALAYLESKRFVHRDIAARNVLVSSNDCVKLGDFGLSRYMEDSTYYKASKGKLPIKWMAPESINFRRFTSASDVWMFGVCMWEILMHGVKPFQGVKNNDVIGRIENGERLPMPPNCPPTLYSLMTKCWAYDPSRRPRFTELKAQLSTILEEEKAQQEE\n",
    ">B|ccd\n",
    "YAM\n",
    "\"\"\")\n",
    "with open(\"4ebv.fasta\", 'w') as f:\n",
    "    f.write(\"\"\"\n",
    ">A|protein|\n",
    "MSYYHHHHHHDYDIPTTENLYFQGAMGSSTRDYEIQRERIELGRCIGEGQFGDVHQGIYMSPENPALAVAIKTCKNCTSDSVREKFLQEALTMRQFDHPHIVKLIGVITENPVWIIMELCTLGELRSFLQVRKYSLDLASLILYAYQLSTALAYLESKRFVHRDIAARNVLVSSNDCVKLGDFGLSRYMEDSTYYKASKGKLPIKWMAPESINFRRFTSASDVWMFGVCMWEILMHGVKPFQGVKNNDVIGRIENGERLPMPPNCPPTLYSLMTKCWAYDPSRRPRFTELKAQLSTILEEEKAQ\n",
    ">B|ccd\n",
    "0O7\n",
    "\"\"\")\n",
    "\n",
    "name = '3bz3'\n",
    "path_3bz3 = f\"boltz_results_{name}/predictions/{name}/{name}_model_0.cif\"\n",
    "name = '4ebv'\n",
    "path_4ebv = f\"boltz_results_{name}/predictions/{name}/{name}_model_0.cif\"\n",
    "\n",
    "parser = MMCIFParser(QUIET=True)\n",
    "struct_3bz3 = parser.get_structure(\"3bz3\", path_3bz3)\n",
    "struct_4ebv = parser.get_structure(\"4ebv\", path_4ebv)\n",
    "\n",
    "aligner = CEAligner()\n",
    "aligner.set_reference(struct_3bz3)\n",
    "aligner.align(struct_4ebv) # this will change the coordinates\n",
    "\n",
    "print(f\"RMSD: {aligner.rms:.4f}\")\n",
    "io = PDBIO()\n",
    "io.set_structure(struct_4ebv)\n",
    "io.save('test.pdb')\n",
    "\n",
    "with open(path_3bz3) as f:\n",
    "    predicted1 = \"\".join([x for x in f])\n",
    "with open('test.pdb') as f:\n",
    "    predicted2 = \"\".join([x for x in f])\n",
    "\n",
    "view = py3Dmol.view(width=400, height=300, linked=True)\n",
    "view.addModelsAsFrames(predicted1)\n",
    "view.addModelsAsFrames(predicted2)\n",
    "view.setStyle({'model': -2}, {\"cartoon\": {'color': 'green'}}) # first prediction\n",
    "view.setStyle({'model': -2, 'resn': 'YAM'}, {\"stick\": {'color': 'yellow'}}) # first prediction\n",
    "view.setStyle({'model': -1}, {\"cartoon\": {'color': 'red'}}) # new_ligand\n",
    "view.setStyle({'model': -1, 'resn': '0O7'}, {\"stick\": {'color': 'blue'}}) # new_ligand\n",
    "view.zoomTo()\n",
    "view.show()"
   ]
  }
 ],
 "metadata": {
  "language_info": {
   "name": "python"
  }
 },
 "nbformat": 4,
 "nbformat_minor": 5
}
